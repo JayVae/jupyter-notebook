{
 "cells": [
  {
   "cell_type": "code",
   "execution_count": 1,
   "metadata": {
    "collapsed": true
   },
   "outputs": [],
   "source": [
    "import pandas as pd\n",
    "\n",
    "import numpy as np\n",
    "import matplotlib.pyplot as plt"
   ]
  },
  {
   "cell_type": "code",
   "execution_count": 2,
   "metadata": {
    "collapsed": true
   },
   "outputs": [
    {
     "data": {
      "text/html": [
       "<div>\n",
       "<style>\n",
       "    .dataframe thead tr:only-child th {\n",
       "        text-align: right;\n",
       "    }\n",
       "\n",
       "    .dataframe thead th {\n",
       "        text-align: left;\n",
       "    }\n",
       "\n",
       "    .dataframe tbody tr th {\n",
       "        vertical-align: top;\n",
       "    }\n",
       "</style>\n",
       "<table border=\"1\" class=\"dataframe\">\n",
       "  <thead>\n",
       "    <tr style=\"text-align: right;\">\n",
       "      <th></th>\n",
       "      <th>4. VIB (native product) 型号</th>\n",
       "      <th>1. Calendar year / week 年/周</th>\n",
       "      <th>PC</th>\n",
       "    </tr>\n",
       "  </thead>\n",
       "  <tbody>\n",
       "    <tr>\n",
       "      <th>西门子厨电</th>\n",
       "      <td>HB25D5L2W</td>\n",
       "      <td>2.2014</td>\n",
       "      <td>4</td>\n",
       "    </tr>\n",
       "    <tr>\n",
       "      <th>西门子厨电</th>\n",
       "      <td>HB25D5L2W</td>\n",
       "      <td>3.2014</td>\n",
       "      <td>6</td>\n",
       "    </tr>\n",
       "    <tr>\n",
       "      <th>西门子厨电</th>\n",
       "      <td>HB25D5L2W</td>\n",
       "      <td>4.2014</td>\n",
       "      <td>21</td>\n",
       "    </tr>\n",
       "    <tr>\n",
       "      <th>西门子厨电</th>\n",
       "      <td>HB25D5L2W</td>\n",
       "      <td>5.2014</td>\n",
       "      <td>2</td>\n",
       "    </tr>\n",
       "    <tr>\n",
       "      <th>西门子厨电</th>\n",
       "      <td>HB25D5L2W</td>\n",
       "      <td>7.2014</td>\n",
       "      <td>0</td>\n",
       "    </tr>\n",
       "    <tr>\n",
       "      <th>西门子厨电</th>\n",
       "      <td>HB25D5L2W</td>\n",
       "      <td>8.2014</td>\n",
       "      <td>0</td>\n",
       "    </tr>\n",
       "    <tr>\n",
       "      <th>西门子厨电</th>\n",
       "      <td>HB25D5L2W</td>\n",
       "      <td>9.2014</td>\n",
       "      <td>0</td>\n",
       "    </tr>\n",
       "    <tr>\n",
       "      <th>西门子厨电</th>\n",
       "      <td>HB25D5L2W</td>\n",
       "      <td>10.2014</td>\n",
       "      <td>1</td>\n",
       "    </tr>\n",
       "    <tr>\n",
       "      <th>西门子厨电</th>\n",
       "      <td>HB25D5L2W</td>\n",
       "      <td>11.2014</td>\n",
       "      <td>0</td>\n",
       "    </tr>\n",
       "    <tr>\n",
       "      <th>西门子厨电</th>\n",
       "      <td>HB25D5L2W</td>\n",
       "      <td>12.2014</td>\n",
       "      <td>2</td>\n",
       "    </tr>\n",
       "  </tbody>\n",
       "</table>\n",
       "</div>"
      ],
      "text/plain": [
       "<div>\n",
       "<style>\n",
       "    .dataframe thead tr:only-child th {\n",
       "        text-align: right;\n",
       "    }\n",
       "\n",
       "    .dataframe thead th {\n",
       "        text-align: left;\n",
       "    }\n",
       "\n",
       "    .dataframe tbody tr th {\n",
       "        vertical-align: top;\n",
       "    }\n",
       "</style>\n",
       "<table border=\"1\" class=\"dataframe\">\n",
       "  <thead>\n",
       "    <tr style=\"text-align: right;\">\n",
       "      <th></th>\n",
       "      <th>4. VIB (native product) 型号</th>\n",
       "      <th>1. Calendar year / week 年/周</th>\n",
       "      <th>PC</th>\n",
       "    </tr>\n",
       "  </thead>\n",
       "  <tbody>\n",
       "    <tr>\n",
       "      <th>西门子厨电</th>\n",
       "      <td>HB25D5L2W</td>\n",
       "      <td>2.2014</td>\n",
       "      <td>4</td>\n",
       "    </tr>\n",
       "    <tr>\n",
       "      <th>西门子厨电</th>\n",
       "      <td>HB25D5L2W</td>\n",
       "      <td>3.2014</td>\n",
       "      <td>6</td>\n",
       "    </tr>\n",
       "    <tr>\n",
       "      <th>西门子厨电</th>\n",
       "      <td>HB25D5L2W</td>\n",
       "      <td>4.2014</td>\n",
       "      <td>21</td>\n",
       "    </tr>\n",
       "    <tr>\n",
       "      <th>西门子厨电</th>\n",
       "      <td>HB25D5L2W</td>\n",
       "      <td>5.2014</td>\n",
       "      <td>2</td>\n",
       "    </tr>\n",
       "    <tr>\n",
       "      <th>西门子厨电</th>\n",
       "      <td>HB25D5L2W</td>\n",
       "      <td>7.2014</td>\n",
       "      <td>0</td>\n",
       "    </tr>\n",
       "    <tr>\n",
       "      <th>西门子厨电</th>\n",
       "      <td>HB25D5L2W</td>\n",
       "      <td>8.2014</td>\n",
       "      <td>0</td>\n",
       "    </tr>\n",
       "    <tr>\n",
       "      <th>西门子厨电</th>\n",
       "      <td>HB25D5L2W</td>\n",
       "      <td>9.2014</td>\n",
       "      <td>0</td>\n",
       "    </tr>\n",
       "    <tr>\n",
       "      <th>西门子厨电</th>\n",
       "      <td>HB25D5L2W</td>\n",
       "      <td>10.2014</td>\n",
       "      <td>1</td>\n",
       "    </tr>\n",
       "    <tr>\n",
       "      <th>西门子厨电</th>\n",
       "      <td>HB25D5L2W</td>\n",
       "      <td>11.2014</td>\n",
       "      <td>0</td>\n",
       "    </tr>\n",
       "    <tr>\n",
       "      <th>西门子厨电</th>\n",
       "      <td>HB25D5L2W</td>\n",
       "      <td>12.2014</td>\n",
       "      <td>2</td>\n",
       "    </tr>\n",
       "  </tbody>\n",
       "</table>\n",
       "</div>"
      ]
     },
     "execution_count": 2,
     "metadata": {},
     "output_type": "execute_result"
    }
   ],
   "source": [
    "df=pd.read_excel(r'E:\\gitlab\\yyzh\\bx\\data.xlsx',sheetname='西门子厨电1',encoding='gbk')\n",
    "df.head(10)"
   ]
  },
  {
   "cell_type": "code",
   "execution_count": 55,
   "metadata": {},
   "outputs": [
    {
     "data": {
      "text/plain": [
       "4. VIB (native product) 型号      object\n",
       "1. Calendar year / week 年/周    float64\n",
       "PC                               int64\n",
       "dtype: object"
      ]
     },
     "execution_count": 55,
     "metadata": {},
     "output_type": "execute_result"
    }
   ],
   "source": [
    "df.dtypes"
   ]
  },
  {
   "cell_type": "code",
   "execution_count": 4,
   "metadata": {},
   "outputs": [
    {
     "data": {
      "text/html": [
       "<div>\n",
       "<style>\n",
       "    .dataframe thead tr:only-child th {\n",
       "        text-align: right;\n",
       "    }\n",
       "\n",
       "    .dataframe thead th {\n",
       "        text-align: left;\n",
       "    }\n",
       "\n",
       "    .dataframe tbody tr th {\n",
       "        vertical-align: top;\n",
       "    }\n",
       "</style>\n",
       "<table border=\"1\" class=\"dataframe\">\n",
       "  <thead>\n",
       "    <tr style=\"text-align: right;\">\n",
       "      <th></th>\n",
       "      <th>VIB</th>\n",
       "      <th>week</th>\n",
       "      <th>PC</th>\n",
       "    </tr>\n",
       "  </thead>\n",
       "  <tbody>\n",
       "    <tr>\n",
       "      <th>西门子厨电</th>\n",
       "      <td>HB25D5L2W</td>\n",
       "      <td>2.2014</td>\n",
       "      <td>4</td>\n",
       "    </tr>\n",
       "    <tr>\n",
       "      <th>西门子厨电</th>\n",
       "      <td>HB25D5L2W</td>\n",
       "      <td>3.2014</td>\n",
       "      <td>6</td>\n",
       "    </tr>\n",
       "    <tr>\n",
       "      <th>西门子厨电</th>\n",
       "      <td>HB25D5L2W</td>\n",
       "      <td>4.2014</td>\n",
       "      <td>21</td>\n",
       "    </tr>\n",
       "    <tr>\n",
       "      <th>西门子厨电</th>\n",
       "      <td>HB25D5L2W</td>\n",
       "      <td>5.2014</td>\n",
       "      <td>2</td>\n",
       "    </tr>\n",
       "    <tr>\n",
       "      <th>西门子厨电</th>\n",
       "      <td>HB25D5L2W</td>\n",
       "      <td>7.2014</td>\n",
       "      <td>0</td>\n",
       "    </tr>\n",
       "  </tbody>\n",
       "</table>\n",
       "</div>"
      ],
      "text/plain": [
       "<div>\n",
       "<style>\n",
       "    .dataframe thead tr:only-child th {\n",
       "        text-align: right;\n",
       "    }\n",
       "\n",
       "    .dataframe thead th {\n",
       "        text-align: left;\n",
       "    }\n",
       "\n",
       "    .dataframe tbody tr th {\n",
       "        vertical-align: top;\n",
       "    }\n",
       "</style>\n",
       "<table border=\"1\" class=\"dataframe\">\n",
       "  <thead>\n",
       "    <tr style=\"text-align: right;\">\n",
       "      <th></th>\n",
       "      <th>VIB</th>\n",
       "      <th>week</th>\n",
       "      <th>PC</th>\n",
       "    </tr>\n",
       "  </thead>\n",
       "  <tbody>\n",
       "    <tr>\n",
       "      <th>西门子厨电</th>\n",
       "      <td>HB25D5L2W</td>\n",
       "      <td>2.2014</td>\n",
       "      <td>4</td>\n",
       "    </tr>\n",
       "    <tr>\n",
       "      <th>西门子厨电</th>\n",
       "      <td>HB25D5L2W</td>\n",
       "      <td>3.2014</td>\n",
       "      <td>6</td>\n",
       "    </tr>\n",
       "    <tr>\n",
       "      <th>西门子厨电</th>\n",
       "      <td>HB25D5L2W</td>\n",
       "      <td>4.2014</td>\n",
       "      <td>21</td>\n",
       "    </tr>\n",
       "    <tr>\n",
       "      <th>西门子厨电</th>\n",
       "      <td>HB25D5L2W</td>\n",
       "      <td>5.2014</td>\n",
       "      <td>2</td>\n",
       "    </tr>\n",
       "    <tr>\n",
       "      <th>西门子厨电</th>\n",
       "      <td>HB25D5L2W</td>\n",
       "      <td>7.2014</td>\n",
       "      <td>0</td>\n",
       "    </tr>\n",
       "  </tbody>\n",
       "</table>\n",
       "</div>"
      ]
     },
     "execution_count": 4,
     "metadata": {},
     "output_type": "execute_result"
    }
   ],
   "source": [
    "df=df.rename(columns={'1. Calendar year / week 年/周': 'week'})\n",
    "df=df.rename(columns={'4. VIB (native product) 型号': 'VIB'})\n",
    "df.head(5)"
   ]
  },
  {
   "cell_type": "code",
   "execution_count": 7,
   "metadata": {
    "collapsed": true
   },
   "outputs": [
    {
     "data": {
      "text/plain": [
       "array(['2.2014', '3.2014', '4.2014', '5.2014', '7.2014', '8.2014',\n",
       "       '9.2014', '10.2014', '11.2014', '12.2014', '13.2014', '14.2014',\n",
       "       '15.2014', '16.2014', '17.2014', '18.2014', '19.2014', '20.2014',\n",
       "       '21.2014', '22.2014', '23.2014', '24.2014', '25.2014', '26.2014',\n",
       "       '27.2014', '28.2014', '29.2014', '30.2014', '31.2014', '32.2014',\n",
       "       '33.2014', '34.2014', '35.2014', '36.2014', '37.2014', '38.2014',\n",
       "       '39.2014', '40.2014', '41.2014', '42.2014', '43.2014', '44.2014',\n",
       "       '45.2014', '46.2014', '47.2014', '48.2014', '49.2014', '50.2014',\n",
       "       '51.2014', '52.2014', '1.2015', '2.2015', '3.2015', '4.2015',\n",
       "       '5.2015', '6.2015', '7.2015', '8.2015', '9.2015', '10.2015',\n",
       "       '11.2015', '12.2015', '13.2015', '14.2015', '15.2015', '16.2015',\n",
       "       '17.2015', '18.2015', '19.2015', '20.2015', '21.2015', '22.2015',\n",
       "       '23.2015', '24.2015', '25.2015', '26.2015', '27.2015', '28.2015',\n",
       "       '29.2015', '30.2015', '31.2015', '32.2015', '33.2015', '34.2015',\n",
       "       '35.2015', '36.2015', '37.2015', '38.2015', '39.2015', '40.2015',\n",
       "       '41.2015', '42.2015', '43.2015', '44.2015', '45.2015', '46.2015',\n",
       "       '47.2015', '48.2015', '49.2015', '50.2015', '51.2015', '52.2015',\n",
       "       '1.2016', '2.2016', '3.2016', '4.2016', '5.2016', '6.2016',\n",
       "       '7.2016', '8.2016', '9.2016', '10.2016', '11.2016', '12.2016',\n",
       "       '13.2016', '14.2016', '15.2016', '16.2016', '17.2016', '18.2016',\n",
       "       '19.2016', '20.2016', '21.2016', '22.2016', '23.2016', '24.2016',\n",
       "       '25.2016', '26.2016', '27.2016', '28.2016', '29.2016', '30.2016',\n",
       "       '31.2016', '32.2016', '33.2016', '34.2016', '35.2016', '36.2016',\n",
       "       '37.2016', '38.2016', '39.2016', '40.2016', '41.2016', '42.2016',\n",
       "       '43.2016', '44.2016', '45.2016', '46.2016', '47.2016', '48.2016',\n",
       "       '49.2016', '50.2016', '51.2016', '52.2016', '1.2017', '2.2017',\n",
       "       '3.2017', '4.2017', '5.2017', '6.2017', '7.2017', '8.2017',\n",
       "       '9.2017', '10.2017', '11.2017', '12.2017', '13.2017', '14.2017',\n",
       "       '15.2017', '16.2017', '17.2017', '18.2017', '19.2017', '20.2017',\n",
       "       '21.2017', '22.2017', '23.2017', '24.2017', '25.2017'], \n",
       "      dtype='<U32')"
      ]
     },
     "execution_count": 7,
     "metadata": {},
     "output_type": "execute_result"
    }
   ],
   "source": [
    "data_all = np.array(df['week']).astype(str)\n",
    "data_all"
   ]
  },
  {
   "cell_type": "code",
   "execution_count": 9,
   "metadata": {},
   "outputs": [
    {
     "data": {
      "text/plain": [
       "'2-2014'"
      ]
     },
     "execution_count": 9,
     "metadata": {},
     "output_type": "execute_result"
    }
   ],
   "source": [
    "data_all[0].replace('.','-')"
   ]
  },
  {
   "cell_type": "code",
   "execution_count": 12,
   "metadata": {},
   "outputs": [
    {
     "data": {
      "text/plain": [
       "25"
      ]
     },
     "execution_count": 12,
     "metadata": {},
     "output_type": "execute_result"
    }
   ],
   "source": [
    "x=5\n",
    "y=x**2\n",
    "y"
   ]
  },
  {
   "cell_type": "code",
   "execution_count": null,
   "metadata": {
    "collapsed": true
   },
   "outputs": [],
   "source": []
  }
 ],
 "metadata": {
  "kernelspec": {
   "display_name": "Python 3",
   "language": "python",
   "name": "python3"
  },
  "language_info": {
   "codemirror_mode": {
    "name": "ipython",
    "version": 3
   },
   "file_extension": ".py",
   "mimetype": "text/x-python",
   "name": "python",
   "nbconvert_exporter": "python",
   "pygments_lexer": "ipython3",
   "version": "3.5.3"
  }
 },
 "nbformat": 4,
 "nbformat_minor": 1
}
