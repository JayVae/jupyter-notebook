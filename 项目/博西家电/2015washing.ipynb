{
 "cells": [
  {
   "cell_type": "code",
   "execution_count": 1,
   "metadata": {
    "collapsed": true
   },
   "outputs": [],
   "source": [
    "import pandas as pd\n",
    "import csv\n",
    "import xlrd\n",
    "import xlwt\n",
    "import numpy as np\n",
    "import seaborn as sns\n",
    "import matplotlib.pyplot as plt\n",
    "%matplotlib inline"
   ]
  },
  {
   "cell_type": "code",
   "execution_count": 2,
   "metadata": {},
   "outputs": [
    {
     "data": {
      "text/html": [
       "<div>\n",
       "<style>\n",
       "    .dataframe thead tr:only-child th {\n",
       "        text-align: right;\n",
       "    }\n",
       "\n",
       "    .dataframe thead th {\n",
       "        text-align: left;\n",
       "    }\n",
       "\n",
       "    .dataframe tbody tr th {\n",
       "        vertical-align: top;\n",
       "    }\n",
       "</style>\n",
       "<table border=\"1\" class=\"dataframe\">\n",
       "  <thead>\n",
       "    <tr style=\"text-align: right;\">\n",
       "      <th></th>\n",
       "      <th>VIB</th>\n",
       "      <th>time</th>\n",
       "      <th>PC</th>\n",
       "      <th>week</th>\n",
       "      <th>year</th>\n",
       "      <th>month</th>\n",
       "      <th>2014-2017开票数量</th>\n",
       "      <th>供价</th>\n",
       "      <th>上市时间</th>\n",
       "      <th>退市时间</th>\n",
       "      <th>容量</th>\n",
       "      <th>转速</th>\n",
       "      <th>颜色</th>\n",
       "      <th>功能</th>\n",
       "      <th>特殊功能</th>\n",
       "      <th>定变频</th>\n",
       "      <th>出样数量</th>\n",
       "      <th>显示屏</th>\n",
       "      <th>能效等级</th>\n",
       "    </tr>\n",
       "  </thead>\n",
       "  <tbody>\n",
       "    <tr>\n",
       "      <th>0</th>\n",
       "      <td>WD12G4601W</td>\n",
       "      <td>24.2015</td>\n",
       "      <td>3</td>\n",
       "      <td>24</td>\n",
       "      <td>2015</td>\n",
       "      <td>6</td>\n",
       "      <td>1449</td>\n",
       "      <td>5790</td>\n",
       "      <td>20150401</td>\n",
       "      <td>0</td>\n",
       "      <td>8/5kg</td>\n",
       "      <td>1200</td>\n",
       "      <td>白</td>\n",
       "      <td>洗烘一体</td>\n",
       "      <td>羽绒服洗+烘</td>\n",
       "      <td>变频</td>\n",
       "      <td>79</td>\n",
       "      <td>LED</td>\n",
       "      <td>1</td>\n",
       "    </tr>\n",
       "    <tr>\n",
       "      <th>1</th>\n",
       "      <td>WD12G4601W</td>\n",
       "      <td>25.2015</td>\n",
       "      <td>1</td>\n",
       "      <td>25</td>\n",
       "      <td>2015</td>\n",
       "      <td>6</td>\n",
       "      <td>1449</td>\n",
       "      <td>5790</td>\n",
       "      <td>20150401</td>\n",
       "      <td>0</td>\n",
       "      <td>8/5kg</td>\n",
       "      <td>1200</td>\n",
       "      <td>白</td>\n",
       "      <td>洗烘一体</td>\n",
       "      <td>羽绒服洗+烘</td>\n",
       "      <td>变频</td>\n",
       "      <td>79</td>\n",
       "      <td>LED</td>\n",
       "      <td>1</td>\n",
       "    </tr>\n",
       "    <tr>\n",
       "      <th>2</th>\n",
       "      <td>WD12G4601W</td>\n",
       "      <td>26.2015</td>\n",
       "      <td>1</td>\n",
       "      <td>26</td>\n",
       "      <td>2015</td>\n",
       "      <td>6</td>\n",
       "      <td>1449</td>\n",
       "      <td>5790</td>\n",
       "      <td>20150401</td>\n",
       "      <td>0</td>\n",
       "      <td>8/5kg</td>\n",
       "      <td>1200</td>\n",
       "      <td>白</td>\n",
       "      <td>洗烘一体</td>\n",
       "      <td>羽绒服洗+烘</td>\n",
       "      <td>变频</td>\n",
       "      <td>79</td>\n",
       "      <td>LED</td>\n",
       "      <td>1</td>\n",
       "    </tr>\n",
       "    <tr>\n",
       "      <th>3</th>\n",
       "      <td>WD12G4601W</td>\n",
       "      <td>27.2015</td>\n",
       "      <td>1</td>\n",
       "      <td>27</td>\n",
       "      <td>2015</td>\n",
       "      <td>6</td>\n",
       "      <td>1449</td>\n",
       "      <td>5790</td>\n",
       "      <td>20150401</td>\n",
       "      <td>0</td>\n",
       "      <td>8/5kg</td>\n",
       "      <td>1200</td>\n",
       "      <td>白</td>\n",
       "      <td>洗烘一体</td>\n",
       "      <td>羽绒服洗+烘</td>\n",
       "      <td>变频</td>\n",
       "      <td>79</td>\n",
       "      <td>LED</td>\n",
       "      <td>1</td>\n",
       "    </tr>\n",
       "    <tr>\n",
       "      <th>4</th>\n",
       "      <td>WD12G4601W</td>\n",
       "      <td>35.2015</td>\n",
       "      <td>71</td>\n",
       "      <td>35</td>\n",
       "      <td>2015</td>\n",
       "      <td>8</td>\n",
       "      <td>1449</td>\n",
       "      <td>5790</td>\n",
       "      <td>20150401</td>\n",
       "      <td>0</td>\n",
       "      <td>8/5kg</td>\n",
       "      <td>1200</td>\n",
       "      <td>白</td>\n",
       "      <td>洗烘一体</td>\n",
       "      <td>羽绒服洗+烘</td>\n",
       "      <td>变频</td>\n",
       "      <td>79</td>\n",
       "      <td>LED</td>\n",
       "      <td>1</td>\n",
       "    </tr>\n",
       "    <tr>\n",
       "      <th>5</th>\n",
       "      <td>WD12G4601W</td>\n",
       "      <td>36.2015</td>\n",
       "      <td>31</td>\n",
       "      <td>36</td>\n",
       "      <td>2015</td>\n",
       "      <td>8</td>\n",
       "      <td>1449</td>\n",
       "      <td>5790</td>\n",
       "      <td>20150401</td>\n",
       "      <td>0</td>\n",
       "      <td>8/5kg</td>\n",
       "      <td>1200</td>\n",
       "      <td>白</td>\n",
       "      <td>洗烘一体</td>\n",
       "      <td>羽绒服洗+烘</td>\n",
       "      <td>变频</td>\n",
       "      <td>79</td>\n",
       "      <td>LED</td>\n",
       "      <td>1</td>\n",
       "    </tr>\n",
       "    <tr>\n",
       "      <th>6</th>\n",
       "      <td>WD12G4601W</td>\n",
       "      <td>38.2015</td>\n",
       "      <td>60</td>\n",
       "      <td>38</td>\n",
       "      <td>2015</td>\n",
       "      <td>9</td>\n",
       "      <td>1449</td>\n",
       "      <td>5790</td>\n",
       "      <td>20150401</td>\n",
       "      <td>0</td>\n",
       "      <td>8/5kg</td>\n",
       "      <td>1200</td>\n",
       "      <td>白</td>\n",
       "      <td>洗烘一体</td>\n",
       "      <td>羽绒服洗+烘</td>\n",
       "      <td>变频</td>\n",
       "      <td>79</td>\n",
       "      <td>LED</td>\n",
       "      <td>1</td>\n",
       "    </tr>\n",
       "    <tr>\n",
       "      <th>7</th>\n",
       "      <td>WD12G4601W</td>\n",
       "      <td>39.2015</td>\n",
       "      <td>7</td>\n",
       "      <td>39</td>\n",
       "      <td>2015</td>\n",
       "      <td>9</td>\n",
       "      <td>1449</td>\n",
       "      <td>5790</td>\n",
       "      <td>20150401</td>\n",
       "      <td>0</td>\n",
       "      <td>8/5kg</td>\n",
       "      <td>1200</td>\n",
       "      <td>白</td>\n",
       "      <td>洗烘一体</td>\n",
       "      <td>羽绒服洗+烘</td>\n",
       "      <td>变频</td>\n",
       "      <td>79</td>\n",
       "      <td>LED</td>\n",
       "      <td>1</td>\n",
       "    </tr>\n",
       "    <tr>\n",
       "      <th>8</th>\n",
       "      <td>WD12G4601W</td>\n",
       "      <td>40.2015</td>\n",
       "      <td>100</td>\n",
       "      <td>40</td>\n",
       "      <td>2015</td>\n",
       "      <td>9</td>\n",
       "      <td>1449</td>\n",
       "      <td>5790</td>\n",
       "      <td>20150401</td>\n",
       "      <td>0</td>\n",
       "      <td>8/5kg</td>\n",
       "      <td>1200</td>\n",
       "      <td>白</td>\n",
       "      <td>洗烘一体</td>\n",
       "      <td>羽绒服洗+烘</td>\n",
       "      <td>变频</td>\n",
       "      <td>79</td>\n",
       "      <td>LED</td>\n",
       "      <td>1</td>\n",
       "    </tr>\n",
       "    <tr>\n",
       "      <th>9</th>\n",
       "      <td>WD12G4601W</td>\n",
       "      <td>42.2015</td>\n",
       "      <td>40</td>\n",
       "      <td>42</td>\n",
       "      <td>2015</td>\n",
       "      <td>10</td>\n",
       "      <td>1449</td>\n",
       "      <td>5790</td>\n",
       "      <td>20150401</td>\n",
       "      <td>0</td>\n",
       "      <td>8/5kg</td>\n",
       "      <td>1200</td>\n",
       "      <td>白</td>\n",
       "      <td>洗烘一体</td>\n",
       "      <td>羽绒服洗+烘</td>\n",
       "      <td>变频</td>\n",
       "      <td>79</td>\n",
       "      <td>LED</td>\n",
       "      <td>1</td>\n",
       "    </tr>\n",
       "  </tbody>\n",
       "</table>\n",
       "</div>"
      ],
      "text/plain": [
       "<div>\n",
       "<style>\n",
       "    .dataframe thead tr:only-child th {\n",
       "        text-align: right;\n",
       "    }\n",
       "\n",
       "    .dataframe thead th {\n",
       "        text-align: left;\n",
       "    }\n",
       "\n",
       "    .dataframe tbody tr th {\n",
       "        vertical-align: top;\n",
       "    }\n",
       "</style>\n",
       "<table border=\"1\" class=\"dataframe\">\n",
       "  <thead>\n",
       "    <tr style=\"text-align: right;\">\n",
       "      <th></th>\n",
       "      <th>VIB</th>\n",
       "      <th>time</th>\n",
       "      <th>PC</th>\n",
       "      <th>week</th>\n",
       "      <th>year</th>\n",
       "      <th>month</th>\n",
       "      <th>2014-2017开票数量</th>\n",
       "      <th>供价</th>\n",
       "      <th>上市时间</th>\n",
       "      <th>退市时间</th>\n",
       "      <th>容量</th>\n",
       "      <th>转速</th>\n",
       "      <th>颜色</th>\n",
       "      <th>功能</th>\n",
       "      <th>特殊功能</th>\n",
       "      <th>定变频</th>\n",
       "      <th>出样数量</th>\n",
       "      <th>显示屏</th>\n",
       "      <th>能效等级</th>\n",
       "    </tr>\n",
       "  </thead>\n",
       "  <tbody>\n",
       "    <tr>\n",
       "      <th>0</th>\n",
       "      <td>WD12G4601W</td>\n",
       "      <td>24.2015</td>\n",
       "      <td>3</td>\n",
       "      <td>24</td>\n",
       "      <td>2015</td>\n",
       "      <td>6</td>\n",
       "      <td>1449</td>\n",
       "      <td>5790</td>\n",
       "      <td>20150401</td>\n",
       "      <td>0</td>\n",
       "      <td>8/5kg</td>\n",
       "      <td>1200</td>\n",
       "      <td>白</td>\n",
       "      <td>洗烘一体</td>\n",
       "      <td>羽绒服洗+烘</td>\n",
       "      <td>变频</td>\n",
       "      <td>79</td>\n",
       "      <td>LED</td>\n",
       "      <td>1</td>\n",
       "    </tr>\n",
       "    <tr>\n",
       "      <th>1</th>\n",
       "      <td>WD12G4601W</td>\n",
       "      <td>25.2015</td>\n",
       "      <td>1</td>\n",
       "      <td>25</td>\n",
       "      <td>2015</td>\n",
       "      <td>6</td>\n",
       "      <td>1449</td>\n",
       "      <td>5790</td>\n",
       "      <td>20150401</td>\n",
       "      <td>0</td>\n",
       "      <td>8/5kg</td>\n",
       "      <td>1200</td>\n",
       "      <td>白</td>\n",
       "      <td>洗烘一体</td>\n",
       "      <td>羽绒服洗+烘</td>\n",
       "      <td>变频</td>\n",
       "      <td>79</td>\n",
       "      <td>LED</td>\n",
       "      <td>1</td>\n",
       "    </tr>\n",
       "    <tr>\n",
       "      <th>2</th>\n",
       "      <td>WD12G4601W</td>\n",
       "      <td>26.2015</td>\n",
       "      <td>1</td>\n",
       "      <td>26</td>\n",
       "      <td>2015</td>\n",
       "      <td>6</td>\n",
       "      <td>1449</td>\n",
       "      <td>5790</td>\n",
       "      <td>20150401</td>\n",
       "      <td>0</td>\n",
       "      <td>8/5kg</td>\n",
       "      <td>1200</td>\n",
       "      <td>白</td>\n",
       "      <td>洗烘一体</td>\n",
       "      <td>羽绒服洗+烘</td>\n",
       "      <td>变频</td>\n",
       "      <td>79</td>\n",
       "      <td>LED</td>\n",
       "      <td>1</td>\n",
       "    </tr>\n",
       "    <tr>\n",
       "      <th>3</th>\n",
       "      <td>WD12G4601W</td>\n",
       "      <td>27.2015</td>\n",
       "      <td>1</td>\n",
       "      <td>27</td>\n",
       "      <td>2015</td>\n",
       "      <td>6</td>\n",
       "      <td>1449</td>\n",
       "      <td>5790</td>\n",
       "      <td>20150401</td>\n",
       "      <td>0</td>\n",
       "      <td>8/5kg</td>\n",
       "      <td>1200</td>\n",
       "      <td>白</td>\n",
       "      <td>洗烘一体</td>\n",
       "      <td>羽绒服洗+烘</td>\n",
       "      <td>变频</td>\n",
       "      <td>79</td>\n",
       "      <td>LED</td>\n",
       "      <td>1</td>\n",
       "    </tr>\n",
       "    <tr>\n",
       "      <th>4</th>\n",
       "      <td>WD12G4601W</td>\n",
       "      <td>35.2015</td>\n",
       "      <td>71</td>\n",
       "      <td>35</td>\n",
       "      <td>2015</td>\n",
       "      <td>8</td>\n",
       "      <td>1449</td>\n",
       "      <td>5790</td>\n",
       "      <td>20150401</td>\n",
       "      <td>0</td>\n",
       "      <td>8/5kg</td>\n",
       "      <td>1200</td>\n",
       "      <td>白</td>\n",
       "      <td>洗烘一体</td>\n",
       "      <td>羽绒服洗+烘</td>\n",
       "      <td>变频</td>\n",
       "      <td>79</td>\n",
       "      <td>LED</td>\n",
       "      <td>1</td>\n",
       "    </tr>\n",
       "    <tr>\n",
       "      <th>5</th>\n",
       "      <td>WD12G4601W</td>\n",
       "      <td>36.2015</td>\n",
       "      <td>31</td>\n",
       "      <td>36</td>\n",
       "      <td>2015</td>\n",
       "      <td>8</td>\n",
       "      <td>1449</td>\n",
       "      <td>5790</td>\n",
       "      <td>20150401</td>\n",
       "      <td>0</td>\n",
       "      <td>8/5kg</td>\n",
       "      <td>1200</td>\n",
       "      <td>白</td>\n",
       "      <td>洗烘一体</td>\n",
       "      <td>羽绒服洗+烘</td>\n",
       "      <td>变频</td>\n",
       "      <td>79</td>\n",
       "      <td>LED</td>\n",
       "      <td>1</td>\n",
       "    </tr>\n",
       "    <tr>\n",
       "      <th>6</th>\n",
       "      <td>WD12G4601W</td>\n",
       "      <td>38.2015</td>\n",
       "      <td>60</td>\n",
       "      <td>38</td>\n",
       "      <td>2015</td>\n",
       "      <td>9</td>\n",
       "      <td>1449</td>\n",
       "      <td>5790</td>\n",
       "      <td>20150401</td>\n",
       "      <td>0</td>\n",
       "      <td>8/5kg</td>\n",
       "      <td>1200</td>\n",
       "      <td>白</td>\n",
       "      <td>洗烘一体</td>\n",
       "      <td>羽绒服洗+烘</td>\n",
       "      <td>变频</td>\n",
       "      <td>79</td>\n",
       "      <td>LED</td>\n",
       "      <td>1</td>\n",
       "    </tr>\n",
       "    <tr>\n",
       "      <th>7</th>\n",
       "      <td>WD12G4601W</td>\n",
       "      <td>39.2015</td>\n",
       "      <td>7</td>\n",
       "      <td>39</td>\n",
       "      <td>2015</td>\n",
       "      <td>9</td>\n",
       "      <td>1449</td>\n",
       "      <td>5790</td>\n",
       "      <td>20150401</td>\n",
       "      <td>0</td>\n",
       "      <td>8/5kg</td>\n",
       "      <td>1200</td>\n",
       "      <td>白</td>\n",
       "      <td>洗烘一体</td>\n",
       "      <td>羽绒服洗+烘</td>\n",
       "      <td>变频</td>\n",
       "      <td>79</td>\n",
       "      <td>LED</td>\n",
       "      <td>1</td>\n",
       "    </tr>\n",
       "    <tr>\n",
       "      <th>8</th>\n",
       "      <td>WD12G4601W</td>\n",
       "      <td>40.2015</td>\n",
       "      <td>100</td>\n",
       "      <td>40</td>\n",
       "      <td>2015</td>\n",
       "      <td>9</td>\n",
       "      <td>1449</td>\n",
       "      <td>5790</td>\n",
       "      <td>20150401</td>\n",
       "      <td>0</td>\n",
       "      <td>8/5kg</td>\n",
       "      <td>1200</td>\n",
       "      <td>白</td>\n",
       "      <td>洗烘一体</td>\n",
       "      <td>羽绒服洗+烘</td>\n",
       "      <td>变频</td>\n",
       "      <td>79</td>\n",
       "      <td>LED</td>\n",
       "      <td>1</td>\n",
       "    </tr>\n",
       "    <tr>\n",
       "      <th>9</th>\n",
       "      <td>WD12G4601W</td>\n",
       "      <td>42.2015</td>\n",
       "      <td>40</td>\n",
       "      <td>42</td>\n",
       "      <td>2015</td>\n",
       "      <td>10</td>\n",
       "      <td>1449</td>\n",
       "      <td>5790</td>\n",
       "      <td>20150401</td>\n",
       "      <td>0</td>\n",
       "      <td>8/5kg</td>\n",
       "      <td>1200</td>\n",
       "      <td>白</td>\n",
       "      <td>洗烘一体</td>\n",
       "      <td>羽绒服洗+烘</td>\n",
       "      <td>变频</td>\n",
       "      <td>79</td>\n",
       "      <td>LED</td>\n",
       "      <td>1</td>\n",
       "    </tr>\n",
       "  </tbody>\n",
       "</table>\n",
       "</div>"
      ]
     },
     "execution_count": 2,
     "metadata": {},
     "output_type": "execute_result"
    }
   ],
   "source": [
    "df=pd.read_excel('L:/jiadian/siewashing.xlsx')\n",
    "df2015=df[df['year']==2015]\n",
    "df2015.head(10)"
   ]
  },
  {
   "cell_type": "code",
   "execution_count": 4,
   "metadata": {},
   "outputs": [
    {
     "data": {
      "text/plain": [
       "88"
      ]
     },
     "execution_count": 4,
     "metadata": {},
     "output_type": "execute_result"
    }
   ],
   "source": [
    "len(df2015['VIB'].unique())"
   ]
  },
  {
   "cell_type": "code",
   "execution_count": 5,
   "metadata": {},
   "outputs": [
    {
     "data": {
      "text/plain": [
       "50524"
      ]
     },
     "execution_count": 5,
     "metadata": {},
     "output_type": "execute_result"
    }
   ],
   "source": [
    "df2015['PC'].sum()"
   ]
  },
  {
   "cell_type": "code",
   "execution_count": 6,
   "metadata": {},
   "outputs": [
    {
     "data": {
      "text/plain": [
       "count      88.000000\n",
       "mean      574.136364\n",
       "std       859.486604\n",
       "min        -3.000000\n",
       "25%        50.000000\n",
       "50%       234.500000\n",
       "75%       802.250000\n",
       "max      5145.000000\n",
       "Name: PC, dtype: float64"
      ]
     },
     "execution_count": 6,
     "metadata": {},
     "output_type": "execute_result"
    }
   ],
   "source": [
    "pc2015=pd.Series(df2015.groupby('VIB')['PC'].sum())\n",
    "pc2015.describe()"
   ]
  },
  {
   "cell_type": "code",
   "execution_count": 8,
   "metadata": {},
   "outputs": [
    {
     "data": {
      "text/plain": [
       "VIB\n",
       "WM12E2681W    5145\n",
       "WM12P2681W    3669\n",
       "WM12P2691W    3068\n",
       "WM10P1601W    2974\n",
       "WM10E1601W    2120\n",
       "WS12M3600W    1978\n",
       "WM10E2601W    1511\n",
       "WM12E2680W    1418\n",
       "WM08X0R01W    1362\n",
       "WM12E2R80W    1297\n",
       "WM12S3600W    1259\n",
       "WM12P2601W    1212\n",
       "WS12K2601W    1203\n",
       "WM12S4680W    1109\n",
       "WM08X0601W    1018\n",
       "WM10N0600W    1005\n",
       "WM12U4600W     959\n",
       "WM12P2R81W     941\n",
       "WM08X1600W     929\n",
       "WS12M4680W     915\n",
       "Name: PC, dtype: int64"
      ]
     },
     "execution_count": 8,
     "metadata": {},
     "output_type": "execute_result"
    }
   ],
   "source": [
    "pc2015.sort_values(ascending=False).head(20)"
   ]
  },
  {
   "cell_type": "code",
   "execution_count": 9,
   "metadata": {},
   "outputs": [
    {
     "data": {
      "image/png": "[encoded data removed]",
      "text/plain": [
       "<matplotlib.figure.Figure at 0x8b20390>"
      ]
     },
     "metadata": {},
     "output_type": "display_data"
    }
   ],
   "source": [
    "pc2015.sort_values(ascending=False).head(20).plot(kind='bar',figsize=(15,8))\n",
    "plt.ylabel('Sales',fontsize=18)\n",
    "plt.xlabel('Models',fontsize=18)\n",
    "plt.title('2015 Sales of the Top 20 Models',fontsize=20)\n",
    "plt.tick_params(labelsize=12,axis='both')"
   ]
  },
  {
   "cell_type": "code",
   "execution_count": 19,
   "metadata": {
    "collapsed": true
   },
   "outputs": [],
   "source": [
    "price2015=pd.Series(df2015.groupby('供价')['PC'].sum())"
   ]
  },
  {
   "cell_type": "code",
   "execution_count": 20,
   "metadata": {},
   "outputs": [
    {
     "name": "stdout",
     "output_type": "stream",
     "text": [
      "供价\n",
      "2190     1362\n",
      "2290       17\n",
      "2399      929\n",
      "2449       -2\n",
      "2490     3138\n",
      "2690     1511\n",
      "2849      143\n",
      "2990      267\n",
      "3090      393\n",
      "3149      424\n",
      "3240      197\n",
      "3290      704\n",
      "3299      517\n",
      "3350     1005\n",
      "3390      180\n",
      "3429       -3\n",
      "3490        8\n",
      "3549       -2\n",
      "3590      477\n",
      "3690      815\n",
      "3699     1297\n",
      "3821        6\n",
      "3824      417\n",
      "3890     1418\n",
      "3900      591\n",
      "3919       -3\n",
      "3950      233\n",
      "3990     2974\n",
      "4090     6979\n",
      "4115       23\n",
      "         ... \n",
      "4605       12\n",
      "4790      190\n",
      "4799       -2\n",
      "4805      289\n",
      "4899      127\n",
      "4990     1262\n",
      "4997       25\n",
      "5046      915\n",
      "5090       85\n",
      "5190      959\n",
      "5290     4610\n",
      "5389      522\n",
      "5546     1259\n",
      "5590     3563\n",
      "5690      136\n",
      "5790     1251\n",
      "5890      477\n",
      "5899      213\n",
      "6036     1109\n",
      "6232       96\n",
      "6490      452\n",
      "6526      906\n",
      "6565      695\n",
      "6918       66\n",
      "7790      428\n",
      "8690      643\n",
      "9799      344\n",
      "11190      57\n",
      "11990       9\n",
      "12990       1\n",
      "Name: PC, Length: 66, dtype: int64\n"
     ]
    }
   ],
   "source": [
    "print(price2015)"
   ]
  },
  {
   "cell_type": "code",
   "execution_count": 21,
   "metadata": {
    "scrolled": true
   },
   "outputs": [
    {
     "name": "stdout",
     "output_type": "stream",
     "text": [
      "供价\n",
      "2190     1362\n",
      "2290       17\n",
      "2399      929\n",
      "2490     3138\n",
      "2690     1511\n",
      "2849      143\n",
      "2990      267\n",
      "3090      393\n",
      "3149      424\n",
      "3240      197\n",
      "3290      704\n",
      "3299      517\n",
      "3350     1005\n",
      "3390      180\n",
      "3490        8\n",
      "3590      477\n",
      "3690      815\n",
      "3699     1297\n",
      "3821        6\n",
      "3824      417\n",
      "3890     1418\n",
      "3900      591\n",
      "3950      233\n",
      "3990     2974\n",
      "4090     6979\n",
      "4115       23\n",
      "4213       16\n",
      "4290      145\n",
      "4409      244\n",
      "4490      662\n",
      "         ... \n",
      "4590      765\n",
      "4605       12\n",
      "4790      190\n",
      "4805      289\n",
      "4899      127\n",
      "4990     1262\n",
      "4997       25\n",
      "5046      915\n",
      "5090       85\n",
      "5190      959\n",
      "5290     4610\n",
      "5389      522\n",
      "5546     1259\n",
      "5590     3563\n",
      "5690      136\n",
      "5790     1251\n",
      "5890      477\n",
      "5899      213\n",
      "6036     1109\n",
      "6232       96\n",
      "6490      452\n",
      "6526      906\n",
      "6565      695\n",
      "6918       66\n",
      "7790      428\n",
      "8690      643\n",
      "9799      344\n",
      "11190      57\n",
      "11990       9\n",
      "12990       1\n",
      "Name: PC, Length: 61, dtype: int64\n"
     ]
    }
   ],
   "source": [
    "pr2015=price2015[price2015>0]\n",
    "print(pr2015)"
   ]
  },
  {
   "cell_type": "code",
   "execution_count": 23,
   "metadata": {
    "scrolled": true
   },
   "outputs": [
    {
     "data": {
      "image/png": "[encoded data removed]",
      "text/plain": [
       "<matplotlib.figure.Figure at 0x8e69c50>"
      ]
     },
     "metadata": {},
     "output_type": "display_data"
    }
   ],
   "source": [
    "list=[]\n",
    "for key in pr2015.index:\n",
    "     i=1\n",
    "     while i <=pr2015[key]:\n",
    "         list.append(key)\n",
    "         i=i+1\n",
    "pr=pd.Series(list)\n",
    "plt.figure(figsize=(20,8))\n",
    "sns.distplot(pr)\n",
    "plt.xlabel('price',fontsize=20)\n",
    "plt.title('2015 Sales-Price Relationship Chart',fontsize=25)\n",
    "plt.tick_params(labelsize=14,axis='both')"
   ]
  },
  {
   "cell_type": "code",
   "execution_count": 24,
   "metadata": {},
   "outputs": [
    {
     "name": "stdout",
     "output_type": "stream",
     "text": [
      "month\n",
      "1     6022\n",
      "2     2140\n",
      "3     4608\n",
      "4     4767\n",
      "5     3897\n",
      "6     4292\n",
      "7     2017\n",
      "8     6216\n",
      "9     3949\n",
      "10    5235\n",
      "11    3703\n",
      "12    3678\n",
      "Name: PC, dtype: int64\n"
     ]
    },
    {
     "data": {
      "image/png": "[encoded data removed]",
      "text/plain": [
       "<matplotlib.figure.Figure at 0x8e8cbf0>"
      ]
     },
     "metadata": {},
     "output_type": "display_data"
    }
   ],
   "source": [
    "month2015=pd.Series(df2015.groupby('month')['PC'].sum())\n",
    "month2015.plot(kind='line',figsize=(10,5))\n",
    "plt.ylabel('Sales',fontsize=18)\n",
    "plt.xlabel('Month',fontsize=18)\n",
    "plt.title('2015 Sales-Month Relationship Chart',fontsize=20)\n",
    "plt.tick_params(labelsize=12,axis='both')\n",
    "print(month2015)"
   ]
  },
  {
   "cell_type": "code",
   "execution_count": 3,
   "metadata": {},
   "outputs": [
    {
     "name": "stdout",
     "output_type": "stream",
     "text": [
      "颜色\n",
      "白      22104\n",
      "缎光银     5248\n",
      "银      23172\n",
      "Name: PC, dtype: int64\n"
     ]
    },
    {
     "data": {
      "text/plain": [
       "<matplotlib.axes._subplots.AxesSubplot at 0x86574f0>"
      ]
     },
     "execution_count": 3,
     "metadata": {},
     "output_type": "execute_result"
    },
    {
     "data": {
      "image/png": "[encoded data removed]",
      "text/plain": [
       "<matplotlib.figure.Figure at 0x8657590>"
      ]
     },
     "metadata": {},
     "output_type": "display_data"
    }
   ],
   "source": [
    "color2015=pd.Series(df2015.groupby(u'颜色')['PC'].sum())\n",
    "print(color2015)\n",
    "plt.rc('font', family='SimHei', size=20)\n",
    "color2015.plot(kind='pie',figsize=(5,5))"
   ]
  },
  {
   "cell_type": "code",
   "execution_count": 26,
   "metadata": {},
   "outputs": [
    {
     "name": "stdout",
     "output_type": "stream",
     "text": [
      "转速\n",
      "800      4903\n",
      "1000    12314\n",
      "1200    30219\n",
      "1400     2677\n",
      "1500      410\n",
      "1600        1\n",
      "Name: PC, dtype: int64\n"
     ]
    },
    {
     "data": {
      "image/png": "[encoded data removed]",
      "text/plain": [
       "<matplotlib.figure.Figure at 0x5a5acf0>"
      ]
     },
     "metadata": {},
     "output_type": "display_data"
    }
   ],
   "source": [
    "speed2015=pd.Series(df2015.groupby(u'转速')['PC'].sum())\n",
    "# print(speed2016)\n",
    "print(speed2015.sort_index(ascending=True))\n",
    "speed2015.plot(kind='bar',figsize=(10,5))\n",
    "plt.ylabel('Sales',fontsize=18)\n",
    "plt.xlabel('Speed',fontsize=18)\n",
    "plt.title('2015 Sales-Speed Relationship Chart',fontsize=20)\n",
    "plt.tick_params(labelsize=12,axis='both')"
   ]
  },
  {
   "cell_type": "code",
   "execution_count": 5,
   "metadata": {},
   "outputs": [
    {
     "name": "stdout",
     "output_type": "stream",
     "text": [
      "功能\n",
      "洗烘一体     2547\n",
      "洗衣机     47977\n",
      "Name: PC, dtype: int64\n"
     ]
    },
    {
     "data": {
      "text/plain": [
       "<matplotlib.axes._subplots.AxesSubplot at 0x88b6a50>"
      ]
     },
     "execution_count": 5,
     "metadata": {},
     "output_type": "execute_result"
    },
    {
     "data": {
      "image/png": "[encoded data removed]",
      "text/plain": [
       "<matplotlib.figure.Figure at 0x88e0170>"
      ]
     },
     "metadata": {},
     "output_type": "display_data"
    }
   ],
   "source": [
    "function2015=pd.Series(df2015.groupby(u'功能')['PC'].sum())\n",
    "print(function2015)\n",
    "plt.rc('font', family='SimHei', size=20)\n",
    "function2015.plot(kind='pie',figsize=(5,5))"
   ]
  },
  {
   "cell_type": "code",
   "execution_count": 29,
   "metadata": {},
   "outputs": [
    {
     "name": "stdout",
     "output_type": "stream",
     "text": [
      "容量\n",
      "8kg        19888\n",
      "7kg        14787\n",
      "6.2kg       6989\n",
      "6kg         4371\n",
      "9kg         1932\n",
      "7.5/4kg     1370\n",
      "8/5kg       1081\n",
      "7/4kg         96\n",
      "5.6kg         10\n",
      "Name: PC, dtype: int64\n"
     ]
    },
    {
     "data": {
      "image/png": "[encoded data removed]",
      "text/plain": [
       "<matplotlib.figure.Figure at 0x58e4410>"
      ]
     },
     "metadata": {},
     "output_type": "display_data"
    }
   ],
   "source": [
    "capacity2015=pd.Series(df2015.groupby(u'容量')['PC'].sum())\n",
    "print(capacity2015.sort_values(ascending=False))\n",
    "capacity2015.sort_values(ascending=False).plot(kind='bar',figsize=(7,4))\n",
    "plt.ylabel('Sales',fontsize=18)\n",
    "plt.xlabel('Capacity',fontsize=18)\n",
    "plt.title('2015 Sales-Capacity Relationship Chart',fontsize=20)\n",
    "plt.tick_params(labelsize=12,axis='both')"
   ]
  },
  {
   "cell_type": "code",
   "execution_count": 6,
   "metadata": {},
   "outputs": [
    {
     "name": "stdout",
     "output_type": "stream",
     "text": [
      "定变频\n",
      "变频    32663\n",
      "定频    17861\n",
      "Name: PC, dtype: int64\n"
     ]
    },
    {
     "data": {
      "text/plain": [
       "<matplotlib.axes._subplots.AxesSubplot at 0x8965870>"
      ]
     },
     "execution_count": 6,
     "metadata": {},
     "output_type": "execute_result"
    },
    {
     "data": {
      "image/png": "[encoded data removed]",
      "text/plain": [
       "<matplotlib.figure.Figure at 0x896b6f0>"
      ]
     },
     "metadata": {},
     "output_type": "display_data"
    }
   ],
   "source": [
    "frequency2015=pd.Series(df2015.groupby(u'定变频')['PC'].sum())\n",
    "print(frequency2015)\n",
    "plt.rc('font', family='SimHei', size=20)\n",
    "frequency2015.plot(kind='pie',figsize=(5,5))"
   ]
  },
  {
   "cell_type": "code",
   "execution_count": 1,
   "metadata": {},
   "outputs": [
    {
     "ename": "NameError",
     "evalue": "name 'pd' is not defined",
     "output_type": "error",
     "traceback": [
      "\u001b[1;31m---------------------------------------------------------------------------\u001b[0m",
      "\u001b[1;31mNameError\u001b[0m                                 Traceback (most recent call last)",
      "\u001b[1;32m<ipython-input-1-6006087773b5>\u001b[0m in \u001b[0;36m<module>\u001b[1;34m()\u001b[0m\n\u001b[1;32m----> 1\u001b[1;33m \u001b[0mcapacity2015\u001b[0m\u001b[1;33m=\u001b[0m\u001b[0mpd\u001b[0m\u001b[1;33m.\u001b[0m\u001b[0mSeries\u001b[0m\u001b[1;33m(\u001b[0m\u001b[0mdf2015\u001b[0m\u001b[1;33m.\u001b[0m\u001b[0mgroupby\u001b[0m\u001b[1;33m(\u001b[0m\u001b[1;34mu'总容积'\u001b[0m\u001b[1;33m)\u001b[0m\u001b[1;33m[\u001b[0m\u001b[1;34m'PC'\u001b[0m\u001b[1;33m]\u001b[0m\u001b[1;33m.\u001b[0m\u001b[0msum\u001b[0m\u001b[1;33m(\u001b[0m\u001b[1;33m)\u001b[0m\u001b[1;33m)\u001b[0m\u001b[1;33m\u001b[0m\u001b[0m\n\u001b[0m\u001b[0;32m      2\u001b[0m \u001b[0mprint\u001b[0m\u001b[1;33m(\u001b[0m\u001b[0mcapacity2015\u001b[0m\u001b[1;33m.\u001b[0m\u001b[0msort_values\u001b[0m\u001b[1;33m(\u001b[0m\u001b[0mascending\u001b[0m\u001b[1;33m=\u001b[0m\u001b[1;32mFalse\u001b[0m\u001b[1;33m)\u001b[0m\u001b[1;33m)\u001b[0m\u001b[1;33m\u001b[0m\u001b[0m\n\u001b[0;32m      3\u001b[0m \u001b[0mcapacity2015\u001b[0m\u001b[1;33m.\u001b[0m\u001b[0msort_values\u001b[0m\u001b[1;33m(\u001b[0m\u001b[0mascending\u001b[0m\u001b[1;33m=\u001b[0m\u001b[1;32mFalse\u001b[0m\u001b[1;33m)\u001b[0m\u001b[1;33m.\u001b[0m\u001b[0mplot\u001b[0m\u001b[1;33m(\u001b[0m\u001b[0mkind\u001b[0m\u001b[1;33m=\u001b[0m\u001b[1;34m'bar'\u001b[0m\u001b[1;33m,\u001b[0m\u001b[0mfigsize\u001b[0m\u001b[1;33m=\u001b[0m\u001b[1;33m(\u001b[0m\u001b[1;36m7\u001b[0m\u001b[1;33m,\u001b[0m\u001b[1;36m4\u001b[0m\u001b[1;33m)\u001b[0m\u001b[1;33m)\u001b[0m\u001b[1;33m\u001b[0m\u001b[0m\n\u001b[0;32m      4\u001b[0m \u001b[0mplt\u001b[0m\u001b[1;33m.\u001b[0m\u001b[0mylabel\u001b[0m\u001b[1;33m(\u001b[0m\u001b[1;34m'Sales'\u001b[0m\u001b[1;33m,\u001b[0m\u001b[0mfontsize\u001b[0m\u001b[1;33m=\u001b[0m\u001b[1;36m18\u001b[0m\u001b[1;33m)\u001b[0m\u001b[1;33m\u001b[0m\u001b[0m\n\u001b[0;32m      5\u001b[0m \u001b[0mplt\u001b[0m\u001b[1;33m.\u001b[0m\u001b[0mxlabel\u001b[0m\u001b[1;33m(\u001b[0m\u001b[1;34m'Capacity'\u001b[0m\u001b[1;33m,\u001b[0m\u001b[0mfontsize\u001b[0m\u001b[1;33m=\u001b[0m\u001b[1;36m18\u001b[0m\u001b[1;33m)\u001b[0m\u001b[1;33m\u001b[0m\u001b[0m\n",
      "\u001b[1;31mNameError\u001b[0m: name 'pd' is not defined"
     ]
    }
   ],
   "source": []
  },
  {
   "cell_type": "code",
   "execution_count": null,
   "metadata": {
    "collapsed": true
   },
   "outputs": [],
   "source": []
  }
 ],
 "metadata": {
  "kernelspec": {
   "display_name": "Python 3",
   "language": "python",
   "name": "python3"
  },
  "language_info": {
   "codemirror_mode": {
    "name": "ipython",
    "version": 3
   },
   "file_extension": ".py",
   "mimetype": "text/x-python",
   "name": "python",
   "nbconvert_exporter": "python",
   "pygments_lexer": "ipython3",
   "version": "3.5.3"
  }
 },
 "nbformat": 4,
 "nbformat_minor": 1
}
