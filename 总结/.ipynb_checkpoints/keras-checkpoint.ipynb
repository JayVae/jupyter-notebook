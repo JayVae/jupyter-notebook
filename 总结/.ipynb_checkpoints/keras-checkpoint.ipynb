{
 "cells": [
  {
   "cell_type": "markdown",
   "metadata": {
    "collapsed": true
   },
   "source": [
    "# keras神经网络"
   ]
  },
  {
   "cell_type": "markdown",
   "metadata": {},
   "source": [
    "## 1.建立模型训练"
   ]
  },
  {
   "cell_type": "raw",
   "metadata": {},
   "source": [
    "#encoding=utf-8\n",
    "from keras.models import Sequential\n",
    "from keras.layers import Dense, Activation\n",
    "from keras.optimizers import SGD\n",
    "from sklearn.datasets import load_iris\n",
    "from sklearn.cross_validation import train_test_split\n",
    "from sklearn.preprocessing import LabelBinarizer\n",
    "def main():\n",
    "    iris = load_iris()\n",
    "    train_data, test_data, train_target, test_target = train_test_split(iris.data, iris.target, test_size=0.2, random_state=1)\n",
    "# 将输出标签化，0:100,1:010,2:001\n",
    "    labels_train = LabelBinarizer().fit_transform(train_target)\n",
    "    model = Sequential(\n",
    "        [\n",
    "#             5代表输出\n",
    "            Dense(5, input_dim=4), \n",
    "            Activation(\"relu\"),\n",
    "            Dense(3), # label 0 1 2\n",
    "            Activation(\"sigmoid\")\n",
    "        ]\n",
    "    )\n",
    "    sgd=SGD(lr=0.01, decay=1e-6, momentum=0.9)\n",
    "    model.compile(optimizer=sgd, loss=\"categorical_crossentropy\")\n",
    "    model.fit(train_data, labels_train, nb_epoch=200, batch_size=40) \n",
    "    print(model.predict_classes(test_data))\n",
    "    print(test_target)\n",
    "if __name__==\"__main__\" :\n",
    "    main()"
   ]
  },
  {
   "cell_type": "markdown",
   "metadata": {},
   "source": [
    "# 2.保存模型"
   ]
  },
  {
   "cell_type": "raw",
   "metadata": {},
   "source": [
    "model.save_weights(r\"E:\\gitlab\\LSTM_learn\\BX\\model\")"
   ]
  },
  {
   "cell_type": "markdown",
   "metadata": {},
   "source": [
    "## 3.重载模型并利用模型训练"
   ]
  },
  {
   "cell_type": "raw",
   "metadata": {},
   "source": [
    "#encoding=utf-8\n",
    "from keras.models import Sequential\n",
    "from keras.layers import Dense, Activation\n",
    "from keras.optimizers import SGD\n",
    "from sklearn.datasets import load_iris\n",
    "from sklearn.cross_validation import train_test_split\n",
    "from sklearn.preprocessing import LabelBinarizer\n",
    "def main():\n",
    "    iris = load_iris()\n",
    "    train_data, test_data, train_target, test_target = train_test_split(iris.data, iris.target, test_size=0.2, random_state=1)\n",
    "    labels_train = LabelBinarizer().fit_transform(train_target)\n",
    "    model = Sequential(\n",
    "        [\n",
    "            Dense(5, input_dim=4),\n",
    "            Activation(\"relu\"),\n",
    "            Dense(3), # label 0 1 2\n",
    "            Activation(\"sigmoid\")\n",
    "        ]\n",
    "    )\n",
    "    sgd = SGD(lr=0.01, decay=1e-6, momentum=0.9)\n",
    "    model.compile(optimizer=sgd, loss=\"categorical_crossentropy\")\n",
    "    model.load_weights(r\"E:\\gitlab\\LSTM_learn\\BX\\model\")\n",
    "    # model.fit(train_data, labels_train, nb_epoch=200, batch_size=40)\n",
    "    print(model.predict_classes(test_data))\n",
    "\n",
    "\n",
    "if __name__==\"__main__\" :\n",
    "    main()"
   ]
  },
  {
   "cell_type": "code",
   "execution_count": null,
   "metadata": {
    "collapsed": true
   },
   "outputs": [],
   "source": []
  }
 ],
 "metadata": {
  "kernelspec": {
   "display_name": "Python 2",
   "language": "python",
   "name": "python2"
  },
  "language_info": {
   "codemirror_mode": {
    "name": "ipython",
    "version": 2
   },
   "file_extension": ".py",
   "mimetype": "text/x-python",
   "name": "python",
   "nbconvert_exporter": "python",
   "pygments_lexer": "ipython2",
   "version": "2.7.13"
  }
 },
 "nbformat": 4,
 "nbformat_minor": 1
}
