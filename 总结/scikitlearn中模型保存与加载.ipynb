{
 "cells": [
  {
   "cell_type": "markdown",
   "metadata": {
    "collapsed": true
   },
   "source": [
    "# 方法1"
   ]
  },
  {
   "cell_type": "code",
   "execution_count": 2,
   "metadata": {},
   "outputs": [
    {
     "name": "stdout",
     "output_type": "stream",
     "text": [
      "[0]\n"
     ]
    }
   ],
   "source": [
    "import pickle\n",
    "from sklearn.svm import SVC\n",
    "from sklearn import datasets\n",
    "\n",
    "# 定义分类器\n",
    "svm = SVC()\n",
    "\n",
    "# 加载iris数据集\n",
    "iris = datasets.load_iris()\n",
    "# 读取特征\n",
    "X = iris.data\n",
    "# 读取分类标签\n",
    "y = iris.target\n",
    "\n",
    "# 训练模型\n",
    "svm.fit(X, y)\n",
    "\n",
    "# 保存成python支持的文件格式pickle, 在当前目录下可以看到svm.pickle\n",
    "with open(r\"E:\\gitlab\\LSTM_learn\\BX\\svm.pickle\", 'wb') as fw:\n",
    "    pickle.dump(svm, fw)\n",
    "\n",
    "# 加载svm.pickle\n",
    "with open(r\"E:\\gitlab\\LSTM_learn\\BX\\svm.pickle\", 'rb') as fr:\n",
    "    new_svm = pickle.load(fr)\n",
    "    print(new_svm.predict(X[0:1]))"
   ]
  },
  {
   "cell_type": "markdown",
   "metadata": {},
   "source": [
    "# 方法2"
   ]
  },
  {
   "cell_type": "code",
   "execution_count": 3,
   "metadata": {},
   "outputs": [
    {
     "name": "stdout",
     "output_type": "stream",
     "text": [
      "[0]\n"
     ]
    }
   ],
   "source": [
    "from sklearn.externals import joblib\n",
    "from sklearn.svm import SVC\n",
    "from sklearn import datasets\n",
    "\n",
    "# 定义分类器\n",
    "svm = SVC()\n",
    "\n",
    "# 加载iris数据集\n",
    "iris = datasets.load_iris()\n",
    "# 读取特征\n",
    "X = iris.data\n",
    "# 读取分类标签\n",
    "y = iris.target\n",
    "\n",
    "# 训练模型\n",
    "svm.fit(X, y)\n",
    "\n",
    "# 保存成sklearn自带的文件格式\n",
    "joblib.dump(svm, 'svm.pkl')\n",
    "\n",
    "# 加载svm.pkl\n",
    "new_svm = joblib.load('svm.pkl')\n",
    "print(new_svm.predict(X[0:1]))"
   ]
  },
  {
   "cell_type": "code",
   "execution_count": null,
   "metadata": {
    "collapsed": true
   },
   "outputs": [],
   "source": []
  }
 ],
 "metadata": {
  "kernelspec": {
   "display_name": "Python 3",
   "language": "python",
   "name": "python3"
  },
  "language_info": {
   "codemirror_mode": {
    "name": "ipython",
    "version": 3
   },
   "file_extension": ".py",
   "mimetype": "text/x-python",
   "name": "python",
   "nbconvert_exporter": "python",
   "pygments_lexer": "ipython3",
   "version": "3.5.3"
  }
 },
 "nbformat": 4,
 "nbformat_minor": 1
}
